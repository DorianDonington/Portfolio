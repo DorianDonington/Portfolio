{
 "cells": [
  {
   "cell_type": "code",
   "execution_count": 2,
   "metadata": {},
   "outputs": [],
   "source": [
    "import numpy as np\n",
    "import networkx as nx\n",
    "import matplotlib.pyplot as plt\n",
    "import io\n",
    "import csv"
   ]
  },
  {
   "cell_type": "code",
   "execution_count": 6,
   "metadata": {},
   "outputs": [],
   "source": [
    "def computeDistance(g,dic): \n",
    "    \"\"\"\n",
    "    Function that calculates the distance among nodes.\n",
    "    :g: graph \n",
    "    :dict: dict of nodes(Str) with its distances(int)\n",
    "    :return: a matrix (integers) of distances.\n",
    "    \"\"\"\n",
    "    dist = np.full((g.order(), g.order()), np.inf)\n",
    "        \n",
    "    for node in g.nodes():\n",
    "        dist[dic[node]][dic[node]] = 0\n",
    "        for edge in g.edges(node):\n",
    "            dist[dic[edge[0]]][dic[edge[1]]] = 1\n",
    "    \n",
    "    for k in g.nodes():\n",
    "        for i in g.nodes():\n",
    "            for j in g.nodes():\n",
    "                if dist[dic[i]][dic[j]] > dist[dic[i]][dic[k]] + dist[dic[k]][dic[j]]:\n",
    "                    dist[dic[i]][dic[j]] = dist[dic[i]][dic[k]] + dist[dic[k]][dic[j]]\n",
    "    return dist"
   ]
  },
  {
   "cell_type": "code",
   "execution_count": null,
   "metadata": {},
   "outputs": [],
   "source": [
    "def distanceCosette(g,dict):\n",
    "    with io.open(\"distanceCosette.csv\", \"w\") as fileout:\n",
    "        writer = csv.writer(fileout, delimiter='\\t', quotechar='\"')\n",
    "        writer.writerow([\"Name\", \"DistFromCosette\", \"NewLabel\"])\n",
    "        pos = dict[\"Cosette\"]\n",
    "        distanceMatrix = computeDistance(g,dict)\n",
    "        matrixRow = distanceMatrix[pos]\n",
    "        for node in dict.keys():\n",
    "            value1 = node\n",
    "            value2 = matrixRow[dict[node]]\n",
    "            value3 = value1 + \"(\" + str(value2) + \")\"\n",
    "            \n",
    "            writer.writerow([value1, value2, value3])"
   ]
  },
  {
   "cell_type": "code",
   "execution_count": 4,
   "metadata": {},
   "outputs": [],
   "source": [
    "def computeDiameter(g,dict):\n",
    "    distanceMatrix = computeDistance(g,dict)\n",
    "    print(np.size(distanceMatrix))\n",
    "    distanceVector = distanceMatrix[np.triu_indices(np.size(distanceMatrix,1),k=1)]\n",
    "    newDistanceVec = []\n",
    "    for element in distanceVector:\n",
    "        try:\n",
    "            element = int(element)\n",
    "            if element != (np.inf and 0):\n",
    "                newDistanceVec.append(element)\n",
    "        except:\n",
    "            pass\n",
    "    return newDistanceVec"
   ]
  },
  {
   "cell_type": "code",
   "execution_count": null,
   "metadata": {},
   "outputs": [],
   "source": [
    "#it reads the file and creates its graph\n",
    "g = nx.read_gml(path=\"lesmiserables.gml\", label=\"label\")\n",
    "print(\"|V|=%d, |E|=%d\" % (g.order(), g.size()))\n",
    "\n",
    "#it creates the dictionary containing the node's name and its position in the matrix\n",
    "dictNodes = {}\n",
    "pos = 0\n",
    "for node in g.nodes():\n",
    "    dictNodes[node] = pos\n",
    "    pos += 1\n",
    "\n",
    "#it calls the function to create the file containing the distances that the nodes have with \"Cosette\"\n",
    "distanceCosette(g,dictNodes)\n",
    "\n",
    "#it computes the diameter of the graph\n",
    "distances = computeDiameter(g,dictNodes)\n",
    "diameter = np.max(distances)\n",
    "print(\"diameter \"+str(diameter))\n",
    "\n",
    "#it computes the 90-effective-diameter of the graph\n",
    "effDiameter = np.percentile(distances,90)\n",
    "print(\"effective diameter \"+str(effDiameter))\n",
    "medDiameter = np.percentile(distances,50)\n",
    "print(\"medium diameter\"+str(medDiameter))\n",
    "\n",
    "\n",
    "#it creates the histogram of distances \n",
    "hist, bins = np.histogram(distances, density=True, bins=np.arange(np.min(distances), np.max(distances)+2, 1.0))\n",
    "plt.xlabel(\"Distance\")\n",
    "plt.ylabel(\"P(x)\")\n",
    "plt.bar(bins[:-1], hist)\n",
    "\n"
   ]
  },
  {
   "cell_type": "code",
   "execution_count": null,
   "metadata": {
    "scrolled": true
   },
   "outputs": [],
   "source": [
    "#Distance Matrix\n",
    "matrix= computeDistance(g,dictNodes)\n",
    "plt.imshow(matrix) \n",
    "plt.colorbar()"
   ]
  },
  {
   "cell_type": "code",
   "execution_count": null,
   "metadata": {},
   "outputs": [],
   "source": [
    "#it reads the file and creates its graph\n",
    "g = nx.Graph()\n",
    "f1 = csv.reader(open(\"email-eu-core.txt\",\"r\"))\n",
    "\n",
    "for line in f1:\n",
    "    splitted = line[0].split()\n",
    "    node1 = int(splitted[0])\n",
    "    node2 = int(splitted[1])\n",
    "    g.add_node(node1)\n",
    "    g.add_node(node2)\n",
    "    g.add_edge(node1, node2)\n",
    "\n",
    "#it creates the dictionary containing the node's name and its position in the matrix\n",
    "nodesDict= {}\n",
    "pos = 0\n",
    "for node in g.nodes:\n",
    "    nodesDict[node] = pos\n",
    "    pos += 1\n",
    "\n",
    "#it computes the diameter of the graph\n",
    "distances = computeDiameter(g,nodesDict)\n",
    "diameter = np.max(distances)\n",
    "print(\"diameter \"+str(diameter))\n",
    "\n",
    "#it computes the 90-effective-diameter of the graph\n",
    "effDiameter = np.percentile(distances,90)\n",
    "print(\"effective diameter \"+str(effDiameter))\n",
    "\n",
    "medDiameter = np.percentile(distances,50)\n",
    "print(\"medium diameter\"+str(medDiameter))\n",
    "\n",
    "hist, bins = np.histogram(distances, density=True, bins=np.arange(np.min(distances), np.max(distances)+2, 1.0))\n",
    "plt.xlabel(\"Distance\")\n",
    "plt.ylabel(\"P(x)\")\n",
    "plt.bar(bins[:-1], hist)\n"
   ]
  },
  {
   "cell_type": "code",
   "execution_count": null,
   "metadata": {},
   "outputs": [],
   "source": [
    "\n"
   ]
  },
  {
   "cell_type": "code",
   "execution_count": null,
   "metadata": {},
   "outputs": [],
   "source": []
  }
 ],
 "metadata": {
  "kernelspec": {
   "display_name": "Python 3",
   "language": "python",
   "name": "python3"
  },
  "language_info": {
   "codemirror_mode": {
    "name": "ipython",
    "version": 3
   },
   "file_extension": ".py",
   "mimetype": "text/x-python",
   "name": "python",
   "nbconvert_exporter": "python",
   "pygments_lexer": "ipython3",
   "version": "3.7.1"
  }
 },
 "nbformat": 4,
 "nbformat_minor": 2
}
