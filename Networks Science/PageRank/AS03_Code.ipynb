{
 "cells": [
  {
   "cell_type": "code",
   "execution_count": 1,
   "metadata": {},
   "outputs": [],
   "source": [
    "import gzip\n",
    "import csv \n",
    "import numpy as np\n",
    "import tarfile"
   ]
  },
  {
   "cell_type": "code",
   "execution_count": 2,
   "metadata": {},
   "outputs": [],
   "source": [
    "INPUT_HOSTNAMES = \"uk-2007-05.hostnames.txt.gz\"\n",
    "HOSTGRAPH = \"uk-2007-05.hostgraph_weighted.graph-txt.gz\"\n",
    "WEBSPAM_1 = \"WEBSPAM-UK2007-SET1-labels.txt\"\n",
    "WEBSPAM_2 = \"WEBSPAM-UK2007-SET2-labels.txt\"\n",
    "ALPHA = 0.85"
   ]
  },
  {
   "cell_type": "code",
   "execution_count": 3,
   "metadata": {},
   "outputs": [],
   "source": [
    "def readTxt():\n",
    "    \"\"\"\n",
    "    It reads the file and create the id2name dictionary\n",
    "    :return: id2name dictionary in which the key is the id and the value is the url of the site\n",
    "    \"\"\"\n",
    "    with gzip.open(INPUT_HOSTNAMES, \"rt\", encoding=\"utf-8\") as input_file:\n",
    "        id2name = {}\n",
    "        reader = csv.reader(input_file, delimiter=' ', quotechar='\"')\n",
    "        for record in reader:\n",
    "            i = int(record[0])\n",
    "            id2name[i] = record[1]\n",
    "    return id2name"
   ]
  },
  {
   "cell_type": "code",
   "execution_count": 4,
   "metadata": {},
   "outputs": [],
   "source": [
    "def pageRank(it):\n",
    "    \"\"\"\n",
    "    It executes the page rank algorithm \n",
    "    :it: number of iterations (int)\n",
    "    :return: an array with the page rank score of each node. \n",
    "    \"\"\"\n",
    "    pageRankLen = len(id2name)\n",
    "    pageRankVec = [1/pageRankLen]*pageRankLen\n",
    "    pageRankAux = [0]*pageRankLen\n",
    "    for i in range(it):\n",
    "        with gzip.open(HOSTGRAPH, \"rt\", encoding=\"utf-8\") as input_file:\n",
    "            reader = csv.reader(input_file, delimiter=' ', quotechar='\"')\n",
    "            row1 = next(reader)  # gets the first line\n",
    "            #index is the position in the pageRankVec where we store the score of the source node \n",
    "            index = 0\n",
    "            for src in reader:\n",
    "                for entry in src:\n",
    "                    splitted = entry.split(\":\")\n",
    "                    dest = splitted[0]\n",
    "                    #weight = splitted[1]\n",
    "                    outdegree = len(src)\n",
    "                    pageRankAux[int(dest)] += pageRankVec[index]/outdegree\n",
    "                    \n",
    "                index += 1\n",
    "            #once we have computed the simplified page rank, we compute the value of the page rank for each node.\n",
    "            for j in range(len(pageRankVec)):\n",
    "                pageRankVec[j] = ALPHA*pageRankAux[j] + (1-ALPHA)/pageRankLen\n",
    "                pageRankAux[j] = 0\n",
    "    return pageRankVec"
   ]
  },
  {
   "cell_type": "code",
   "execution_count": 5,
   "metadata": {},
   "outputs": [],
   "source": [
    "def spamHosts():\n",
    "    \"\"\"\n",
    "    It creates a dictionary that contains the sites that are spammers.\n",
    "    :return: dictionary in which the key is the node id and the value is True for everyone. \n",
    "    \"\"\"\n",
    "    #we read the file that contains the set 1 of sites.\n",
    "    fd1 = open(WEBSPAM_1,\"r\")\n",
    "    is_spam = {}\n",
    "    for line in fd1:\n",
    "        splitted = line.split(\" \")\n",
    "        #we check if is a spammer\n",
    "        if splitted[1] == \"spam\":\n",
    "            key = splitted[0]\n",
    "            is_spam[key] = True\n",
    "    fd1.close()\n",
    "    #it reads the file that contains the set 2 of sites.\n",
    "    fd2 = open(WEBSPAM_2,\"r\")\n",
    "    for line in fd2:\n",
    "        splitted = line.split(\" \")\n",
    "        #we check if is a spammer\n",
    "        if splitted[1] == \"spam\":\n",
    "            key = splitted[0]\n",
    "            is_spam[key] = True\n",
    "    fd2.close()\n",
    "    return is_spam"
   ]
  },
  {
   "cell_type": "code",
   "execution_count": 6,
   "metadata": {},
   "outputs": [],
   "source": [
    "def noSpamPageRank(it):\n",
    "    \"\"\"\n",
    "    It computes the page rank excluding the nodes that are spammers\n",
    "    :it: number of iterations (int)\n",
    "    :return: a list with the page rank score of each node. \n",
    "    \"\"\"\n",
    "    is_spam = spamHosts()\n",
    "    pageRankLen = len(id2name)\n",
    "    pageRankVec = [1/pageRankLen]*pageRankLen\n",
    "    for i in range(it):\n",
    "        pageRankAux = [0]*pageRankLen\n",
    "        with gzip.open(HOSTGRAPH, \"rt\", encoding=\"utf-8\") as input_file:\n",
    "            reader = csv.reader(input_file, delimiter=' ', quotechar='\"')\n",
    "            row1 = next(reader)  # gets the first line\n",
    "            #index is the position in the pageRankVec where we store the score of the source node \n",
    "            index = 0\n",
    "            for src in reader:\n",
    "                #we check that the source is not in the is_spam dictionary\n",
    "                if str(index) not in is_spam.keys():\n",
    "                    outlinks = []\n",
    "                    for entry in src:\n",
    "                        splitted = entry.split(\":\")\n",
    "                        dest = splitted[0]\n",
    "                        #weight = splitted[1]\n",
    "                         #we check that the target is not in the is_spam dictionary\n",
    "                        if dest not in is_spam:\n",
    "                            outlinks.append(dest)\n",
    "                        \n",
    "                    for dest in outlinks:\n",
    "                        pageRankAux[int(dest)] += pageRankVec[index]/(len(outlinks))\n",
    "                index += 1\n",
    "            #once we have computed the simplified page rank, we compute the value of the page rank for each node.\n",
    "            for j in range(len(pageRankVec)):\n",
    "                pageRankVec[j] = ALPHA*pageRankAux[j] + (1-ALPHA)/pageRankLen\n",
    "    return pageRankVec"
   ]
  },
  {
   "cell_type": "code",
   "execution_count": 7,
   "metadata": {},
   "outputs": [],
   "source": [
    "id2name = readTxt()\n",
    "iterations = 20\n"
   ]
  },
  {
   "cell_type": "code",
   "execution_count": 8,
   "metadata": {},
   "outputs": [
    {
     "name": "stdout",
     "output_type": "stream",
     "text": [
      "##########top 20 Sites Page Rank##########\n",
      "0.0015168643782398274 www.opsi.gov.uk\n",
      "0.0014182182459715198 www.adobe.co.uk\n",
      "0.0009654563807161581 www.ico.gov.uk\n",
      "0.00089555331065544 www.dti.gov.uk\n",
      "0.0008937889977065464 www.defra.gov.uk\n",
      "0.000780473245157769 news.bbc.co.uk\n",
      "0.0007209475362666682 www.direct.gov.uk\n",
      "0.000697529301060852 www.dfes.gov.uk\n",
      "0.0006817074015284916 www.fsa.gov.uk\n",
      "0.0006581577785798681 www.nationalrail.co.uk\n",
      "0.0006554311467163489 www.communities.gov.uk\n",
      "0.0006482874881544456 www.bbc.co.uk\n",
      "0.0006028805944996983 www.google.co.uk\n",
      "0.0005906484974062024 www.dh.gov.uk\n",
      "0.0005818417136696459 www.hmso.gov.uk\n",
      "0.0005757813160594587 www.hse.gov.uk\n",
      "0.000540229700172051 www.fco.gov.uk\n",
      "0.0005155226994647975 www.nationaltrust.org.uk\n",
      "0.000483592734339035 www.homeoffice.gov.uk\n",
      "0.00045848917724008694 mysite.wanadoo-members.co.uk\n"
     ]
    }
   ],
   "source": [
    "#Top 20 places PageRank\n",
    "\n",
    "#Execute PageRank\n",
    "pageRankVec = pageRank(iterations)\n",
    "hosts_by_pagerank = sorted(enumerate(pageRankVec), key=lambda x: x[1], reverse=True)\n",
    "topHosts = hosts_by_pagerank[:20]\n",
    "print(\"##########top 20 Sites Page Rank##########\")\n",
    "for host in topHosts:\n",
    "    print(str(host[1]) + \" \" + id2name[host[0]])\n"
   ]
  },
  {
   "cell_type": "code",
   "execution_count": 9,
   "metadata": {},
   "outputs": [
    {
     "name": "stdout",
     "output_type": "stream",
     "text": [
      "##########top 20 Sites Page Rank w/o Spam##########\n",
      "0.0015163269912291798 www.opsi.gov.uk\n",
      "0.0014177550573844725 www.adobe.co.uk\n",
      "0.0009642175795585692 www.ico.gov.uk\n",
      "0.0008953203325559037 www.dti.gov.uk\n",
      "0.0008925273921990404 www.defra.gov.uk\n",
      "0.0007798118062589196 news.bbc.co.uk\n",
      "0.0007204877150489438 www.direct.gov.uk\n",
      "0.0006978022269123422 www.dfes.gov.uk\n",
      "0.0006801444750391456 www.fsa.gov.uk\n",
      "0.0006574169744247544 www.nationalrail.co.uk\n",
      "0.0006552851670602633 www.communities.gov.uk\n",
      "0.0006481317727919905 www.bbc.co.uk\n",
      "0.0006023073035861512 www.google.co.uk\n",
      "0.0005910116655537075 www.dh.gov.uk\n",
      "0.0005818574145054327 www.hmso.gov.uk\n",
      "0.00057537938842279 www.hse.gov.uk\n",
      "0.000539037997378092 www.fco.gov.uk\n",
      "0.0005154578899466747 www.nationaltrust.org.uk\n",
      "0.0004833514113988187 www.homeoffice.gov.uk\n",
      "0.00045755162909262494 mysite.wanadoo-members.co.uk\n"
     ]
    }
   ],
   "source": [
    "#Top 20 Execute PageRank NO SPAM\n",
    "noSpamPageRankVec = noSpamPageRank(iterations)\n",
    "hosts_by_pagerank = sorted(enumerate(noSpamPageRankVec), key=lambda x: x[1], reverse=True)\n",
    "topHosts = hosts_by_pagerank[:20]\n",
    "\n",
    "print(\"##########top 20 Sites Page Rank w/o Spam##########\")\n",
    "for host in topHosts:\n",
    "    print(str(host[1]) + \" \" + id2name[host[0]])\n"
   ]
  },
  {
   "cell_type": "code",
   "execution_count": 10,
   "metadata": {},
   "outputs": [
    {
     "name": "stdout",
     "output_type": "stream",
     "text": [
      "##########top 20 Sites Page Rank with co.uk domain ##########\n",
      "0.0014182182459715198 www.adobe.co.uk\n",
      "0.000780473245157769 news.bbc.co.uk\n",
      "0.0006581577785798681 www.nationalrail.co.uk\n",
      "0.0006482874881544456 www.bbc.co.uk\n",
      "0.0006028805944996983 www.google.co.uk\n",
      "0.00045848917724008694 mysite.wanadoo-members.co.uk\n",
      "0.0004268162067476992 www.actinic.co.uk\n",
      "0.0003640398196569995 www.networkrail.co.uk\n",
      "0.00032710620860882734 www.caa.co.uk\n",
      "0.00032325517863542096 www.erolonline.co.uk\n",
      "0.00031455563140291595 www.punterlink.co.uk\n",
      "0.00030441339496852974 www.streetmap.co.uk\n",
      "0.00030310453842517744 www.tso.co.uk\n",
      "0.0002926680894983065 www.kelkoo.co.uk\n",
      "0.00028086861863899906 www.guardian.co.uk\n",
      "0.0002781833278394606 www.rac.co.uk\n",
      "0.0002638469923639058 www.event-management-uk.co.uk\n",
      "0.00024662598481841865 www.telegraph.co.uk\n",
      "0.00023703672636871383 www.investorsinpeople.co.uk\n",
      "0.00021834116672779356 www.business-directory-uk.co.uk\n",
      "0.0002080517504550283 www.infotex.co.uk\n"
     ]
    }
   ],
   "source": [
    "#Top 20 places PageRank co.uk\n",
    "\n",
    "#Execute PageRank\n",
    "pageRankVec = pageRank(iterations)\n",
    "hosts_by_pagerank = sorted(enumerate(pageRankVec), key=lambda x: x[1], reverse=True)\n",
    "topHosts = hosts_by_pagerank[:100]\n",
    "print(\"##########top 20 Sites Page Rank with co.uk domain ##########\")\n",
    "count = 20\n",
    "for host in topHosts:\n",
    "    if \"co.uk\" in id2name[host[0]]:\n",
    "        print(str(host[1])+\" \"+id2name[host[0]])\n",
    "        if count==0:\n",
    "            break\n",
    "        count -=1\n"
   ]
  },
  {
   "cell_type": "code",
   "execution_count": 11,
   "metadata": {},
   "outputs": [
    {
     "name": "stdout",
     "output_type": "stream",
     "text": [
      "##########top 20 Sites Page Rank with co.uk domain w/o Spam ##########\n",
      "0.0014177550573844725 www.adobe.co.uk\n",
      "0.0007798118062589196 news.bbc.co.uk\n",
      "0.0006574169744247544 www.nationalrail.co.uk\n",
      "0.0006481317727919905 www.bbc.co.uk\n",
      "0.0006023073035861512 www.google.co.uk\n",
      "0.00045755162909262494 mysite.wanadoo-members.co.uk\n",
      "0.0004275822265788012 www.actinic.co.uk\n",
      "0.000363578117342681 www.networkrail.co.uk\n",
      "0.00032670701629315484 www.caa.co.uk\n",
      "0.0003173640738929826 www.erolonline.co.uk\n",
      "0.00031651948957987466 www.punterlink.co.uk\n",
      "0.00030424951060941416 www.streetmap.co.uk\n",
      "0.0003028006825034482 www.tso.co.uk\n",
      "0.0002928870966451433 www.kelkoo.co.uk\n",
      "0.00028050984576233996 www.guardian.co.uk\n",
      "0.0002779493305391587 www.rac.co.uk\n",
      "0.0002659336091578067 www.event-management-uk.co.uk\n",
      "0.0002461311067730707 www.telegraph.co.uk\n",
      "0.00023691730911530067 www.investorsinpeople.co.uk\n",
      "0.00021903587788696993 www.business-directory-uk.co.uk\n",
      "0.00020761400425286887 www.infotex.co.uk\n"
     ]
    }
   ],
   "source": [
    "#Top 20 places PageRank co.uk NO SPAM\n",
    "\n",
    "#Execute PageRank\n",
    "noSpampageRankVec = noSpamPageRank(iterations)\n",
    "hosts_by_pagerank = sorted(enumerate(noSpampageRankVec), key=lambda x: x[1], reverse=True)\n",
    "topHosts = hosts_by_pagerank[:100]\n",
    "count = 20\n",
    "print(\"##########top 20 Sites Page Rank with co.uk domain w/o Spam ##########\")\n",
    "for host in topHosts:\n",
    "    if \"co.uk\" in id2name[host[0]]:\n",
    "        print(str(host[1])+\" \"+id2name[host[0]])\n",
    "        if count==0:\n",
    "            break\n",
    "        count -=1\n"
   ]
  },
  {
   "cell_type": "code",
   "execution_count": 12,
   "metadata": {},
   "outputs": [
    {
     "name": "stdout",
     "output_type": "stream",
     "text": [
      "##########top 20 Sites Page Rank with gov.uk domain ##########\n",
      "0.0015168643782398274 www.opsi.gov.uk\n",
      "0.0009654563807161581 www.ico.gov.uk\n",
      "0.00089555331065544 www.dti.gov.uk\n",
      "0.0008937889977065464 www.defra.gov.uk\n",
      "0.0007209475362666682 www.direct.gov.uk\n",
      "0.000697529301060852 www.dfes.gov.uk\n",
      "0.0006817074015284916 www.fsa.gov.uk\n",
      "0.0006554311467163489 www.communities.gov.uk\n",
      "0.0005906484974062024 www.dh.gov.uk\n",
      "0.0005818417136696459 www.hmso.gov.uk\n",
      "0.0005757813160594587 www.hse.gov.uk\n",
      "0.000540229700172051 www.fco.gov.uk\n",
      "0.000483592734339035 www.homeoffice.gov.uk\n",
      "0.0004572991098763979 www.dft.gov.uk\n",
      "0.00044551620266407174 www.dataprotection.gov.uk\n",
      "0.00043753647957066734 www.dwp.gov.uk\n",
      "0.0004196267367553457 www.legislation.hmso.gov.uk\n",
      "0.0003958947431418644 www.informationcommissioner.gov.uk\n",
      "0.00037184244017089766 www.statistics.gov.uk\n",
      "0.0003704741179414513 www.hm-treasury.gov.uk\n",
      "0.0003391975486385459 www.tfl.gov.uk\n"
     ]
    }
   ],
   "source": [
    "#Top 20 places PageRank gov.uk\n",
    "\n",
    "#Execute PageRank\n",
    "pageRankVec = pageRank(iterations)\n",
    "hosts_by_pagerank = sorted(enumerate(pageRankVec), key=lambda x: x[1], reverse=True)\n",
    "topHosts = hosts_by_pagerank[:100]\n",
    "count = 20\n",
    "print(\"##########top 20 Sites Page Rank with gov.uk domain ##########\")\n",
    "for host in topHosts:\n",
    "    if \"gov.uk\" in id2name[host[0]]:\n",
    "        print(str(host[1])+\" \"+id2name[host[0]])\n",
    "        if count==0:\n",
    "            break\n",
    "        count -=1"
   ]
  },
  {
   "cell_type": "code",
   "execution_count": 13,
   "metadata": {},
   "outputs": [
    {
     "name": "stdout",
     "output_type": "stream",
     "text": [
      "##########top 20 Sites Page Rank with gov.uk domain w/o spam##########\n",
      "0.0015163269912291798 www.opsi.gov.uk\n",
      "0.0009642175795585692 www.ico.gov.uk\n",
      "0.0008953203325559037 www.dti.gov.uk\n",
      "0.0008925273921990404 www.defra.gov.uk\n",
      "0.0007204877150489438 www.direct.gov.uk\n",
      "0.0006978022269123422 www.dfes.gov.uk\n",
      "0.0006801444750391456 www.fsa.gov.uk\n",
      "0.0006552851670602633 www.communities.gov.uk\n",
      "0.0005910116655537075 www.dh.gov.uk\n",
      "0.0005818574145054327 www.hmso.gov.uk\n",
      "0.00057537938842279 www.hse.gov.uk\n",
      "0.000539037997378092 www.fco.gov.uk\n",
      "0.0004833514113988187 www.homeoffice.gov.uk\n",
      "0.00045716426001675783 www.dft.gov.uk\n",
      "0.0004445341940639843 www.dataprotection.gov.uk\n",
      "0.0004373521638385658 www.dwp.gov.uk\n",
      "0.000419431970034124 www.legislation.hmso.gov.uk\n",
      "0.0003956975759919554 www.informationcommissioner.gov.uk\n",
      "0.00037178722668428164 www.statistics.gov.uk\n",
      "0.00037000563458066744 www.hm-treasury.gov.uk\n",
      "0.0003391405216973119 www.tfl.gov.uk\n"
     ]
    }
   ],
   "source": [
    "#Top 20 places PageRank gov.uk NO SPAM\n",
    "\n",
    "#Execute PageRank\n",
    "noSpampageRankVec = noSpamPageRank(iterations)\n",
    "hosts_by_pagerank = sorted(enumerate(noSpampageRankVec), key=lambda x: x[1], reverse=True)\n",
    "topHosts = hosts_by_pagerank[:100]\n",
    "count = 20\n",
    "print(\"##########top 20 Sites Page Rank with gov.uk domain w/o spam##########\")\n",
    "for host in topHosts:\n",
    "    if \"gov.uk\" in id2name[host[0]]:\n",
    "        print(str(host[1]) +\" \"+ id2name[host[0]])\n",
    "        \n",
    "        if count==0:\n",
    "            break\n",
    "        count -=1"
   ]
  },
  {
   "cell_type": "code",
   "execution_count": 14,
   "metadata": {},
   "outputs": [
    {
     "name": "stdout",
     "output_type": "stream",
     "text": [
      "33.14277368425596 www.escortnet.co.uk\n",
      "29.058929855290366 www.missionfish.org.uk\n",
      "17.898491711374145 www.statistics.006.free-counter.co.uk\n",
      "13.6422600947175 www.uk-shoponline.co.uk\n",
      "10.800429380479825 www.shop.co.uk\n",
      "10.417142543549902 www.geordie-girls.co.uk\n",
      "10.353438590154301 www.into.demon.co.uk\n",
      "10.069001846752684 www.computerarts.co.uk\n",
      "9.320732629825939 www.aili.co.uk\n",
      "8.869703491243296 connect4fun.co.uk\n",
      "8.452918216407495 www.kompass.co.uk\n",
      "8.003510769421466 www.mercurywd.co.uk\n",
      "7.8800664219899685 www.theshopping-centre.co.uk\n",
      "7.824324020347563 www.markwarner.co.uk\n",
      "7.7418348004899045 www.suppliersnearby.co.uk\n",
      "7.67197459115261 www.quality-site-finder.co.uk\n",
      "7.531583765512691 www.hertfordshiremobilediscos.co.uk\n",
      "6.78796705669567 www.eastwoodtoday.co.uk\n",
      "6.666666666666665 www.jlc.me.uk\n",
      "5.9640753129903645 www.ideas21.co.uk\n"
     ]
    }
   ],
   "source": [
    "#It computes the gain of score \n",
    "gain = []\n",
    "\n",
    "pageRankVec = pageRank(iterations)\n",
    "noSpamPageRankVec = noSpamPageRank(iterations)\n",
    "\n",
    "for i in range(len(pageRankVec)):\n",
    "    gain.append(pageRankVec[i]/noSpamPageRankVec[i]) \n",
    "\n",
    "gain_hosts = sorted(enumerate(gain), key=lambda x: x[1], reverse=True)\n",
    "topGainHosts = gain_hosts[:20]\n",
    "for host in topGainHosts:\n",
    "    print(str(host[1]) + \" \" + id2name[host[0]])"
   ]
  },
  {
   "cell_type": "code",
   "execution_count": 15,
   "metadata": {},
   "outputs": [],
   "source": [
    "def myPageRank(it):\n",
    "    \"\"\"\n",
    "    It executes the page rank algorithm \n",
    "    :it: number of iterations (int)\n",
    "    :return: an array with the page rank score of each node. \n",
    "    \"\"\"\n",
    "    \n",
    "    pageRankLen = len(id2name)\n",
    "    pageRankVec = [1/pageRankLen]*pageRankLen\n",
    "    pageRankAux = [0]*pageRankLen\n",
    "    for i in range(it):\n",
    "        with gzip.open(HOSTGRAPH, \"rt\", encoding=\"utf-8\") as input_file:\n",
    "            reader = csv.reader(input_file, delimiter=' ', quotechar='\"')\n",
    "            row1 = next(reader)  # gets the first line\n",
    "            #index is the position in the pageRankVec where we store the score of the source node \n",
    "            index = 0\n",
    "            for src in reader:\n",
    "                for entry in src:\n",
    "                    splitted = entry.split(\":\")\n",
    "                    dest = splitted[0]\n",
    "                    #weight = splitted[1]\n",
    "                    pageRankAux[int(dest)] += pageRankVec[index]/np.sqrt((len(src)))\n",
    "                    \n",
    "                index += 1\n",
    "                \n",
    "            for j in range(len(pageRankVec)):\n",
    "                pageRankVec[j] = ALPHA*pageRankAux[j] + (1-ALPHA)/pageRankLen\n",
    "                pageRankAux[j] = 0\n",
    "            \n",
    "            suma = sum(pageRankVec)\n",
    "            for k in range(len(pageRankVec)):\n",
    "                pageRankVec[k] = pageRankVec[k]/suma\n",
    "                \n",
    "\n",
    "    return pageRankVec"
   ]
  },
  {
   "cell_type": "code",
   "execution_count": 16,
   "metadata": {},
   "outputs": [
    {
     "name": "stdout",
     "output_type": "stream",
     "text": [
      "##########top 20 Sites Page Rank##########\n",
      "0.0044283353851542135 www.dataprotection.gov.uk\n",
      "0.003529314947193229 www.libdems.org.uk\n",
      "0.0035153398624564874 www.prai.co.uk\n",
      "0.003508030404579182 islington-libdems.org.uk\n",
      "0.0035023627094074306 warwick-leamington-libdems.org.uk\n",
      "0.0035023021019102616 libdems4london.org.uk\n",
      "0.0035021764694591674 montlibdems.org.uk\n",
      "0.0035021670586702232 chichesterlibdems.org.uk\n",
      "0.0035021519500236936 surreyheathlibdems.org.uk\n",
      "0.003502150155631655 bobrussell.org.uk\n",
      "0.00350205251233454 stevegoddard.org.uk\n",
      "0.0035020273066072526 emilygasson.org.uk\n",
      "0.0035020273066072526 jameskeeley.org.uk\n",
      "0.0035002919381198015 bracknell-libdems.org.uk\n",
      "0.0035002871135787527 darren4streatham.org.uk\n",
      "0.0035002871135787527 friendsofstoneymiddletonschool.org.uk\n",
      "0.0035002871135787527 garylawson.org.uk\n",
      "0.0035002871135787527 jamesquinlanforparliament.org.uk\n",
      "0.0035002871135787527 liberty-network.org.uk\n",
      "0.0035002871135787527 lizleffman.org.uk\n"
     ]
    }
   ],
   "source": [
    "#Top 20 places myPageRank\n",
    "\n",
    "#Execute PageRank\n",
    "pageRankVec = myPageRank(iterations)\n",
    "hosts_by_pagerank = sorted(enumerate(pageRankVec), key=lambda x: x[1], reverse=True)\n",
    "topHosts = hosts_by_pagerank[:20]\n",
    "print(\"##########top 20 Sites Page Rank##########\")\n",
    "for host in topHosts:\n",
    "    print(str(host[1]) + \" \" + id2name[host[0]])"
   ]
  },
  {
   "cell_type": "code",
   "execution_count": null,
   "metadata": {},
   "outputs": [],
   "source": []
  }
 ],
 "metadata": {
  "kernelspec": {
   "display_name": "Python 3",
   "language": "python",
   "name": "python3"
  },
  "language_info": {
   "codemirror_mode": {
    "name": "ipython",
    "version": 3
   },
   "file_extension": ".py",
   "mimetype": "text/x-python",
   "name": "python",
   "nbconvert_exporter": "python",
   "pygments_lexer": "ipython3",
   "version": "3.7.1"
  }
 },
 "nbformat": 4,
 "nbformat_minor": 2
}
